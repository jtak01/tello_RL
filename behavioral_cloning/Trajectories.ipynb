{
 "cells": [
  {
   "cell_type": "code",
   "execution_count": 96,
   "id": "d35a80d4-99a5-41de-bf74-3e10ebcf5ac3",
   "metadata": {},
   "outputs": [],
   "source": [
    "import os\n",
    "import pandas as pd\n",
    "import sklearn.linear_model, sklearn.metrics\n",
    "import numpy as np\n",
    "\n",
    "\n",
    "trajectories_path = \"behavioral_cloning/trajectories\""
   ]
  },
  {
   "cell_type": "markdown",
   "id": "fe7ca480-14ac-45a5-9730-5983c5147dba",
   "metadata": {},
   "source": [
    "# Cleaning a single Trajectory (very bulky will drop a lot when we fix code)"
   ]
  },
  {
   "cell_type": "code",
   "execution_count": 97,
   "id": "8d58a71b-63e2-4765-8799-8b95d7409fcc",
   "metadata": {},
   "outputs": [],
   "source": [
    "traj_files = [elem for elem in os.listdir(trajectories_path) if elem[0] != '.']"
   ]
  },
  {
   "cell_type": "code",
   "execution_count": 98,
   "id": "0af0bfd2-f8c9-432d-a613-740a829e2c76",
   "metadata": {},
   "outputs": [],
   "source": [
    "def open_trajectories(traj_path):\n",
    "    raw_df = pd.read_csv(os.path.join(trajectories_path, traj_path), header= None)\n",
    "    raw_df.columns = ['objX', 'objY', 'd', 'lr_command', 'ud_command']\n",
    "    raw_df['objX'] = raw_df.objX.replace(' None', -1).replace('None', -1).astype(int)\n",
    "    raw_df['objY'] = raw_df.objY.replace(' None', -1).replace('None', -1).astype(int)\n",
    "    raw_df['t'] = raw_df.index\n",
    "    return raw_df\n",
    "\n",
    "def fix_traj(example_traj, columns_off = False):\n",
    "    if not columns_off:\n",
    "        return example_traj[['objX', 'objY', 'lr_command', 'ud_command', 'd', 't']]\n",
    "    no_action_inds = ((example_traj.d == -1) | (example_traj.d > 25)) & ((example_traj.lr_command == 0) & (example_traj.ud_command == 0))\n",
    "    no_action_entries = example_traj[no_action_inds]\n",
    "    action_entries = example_traj[~no_action_inds]\n",
    "    action_entries.columns = ['objX', 'objY', 'lr_command', 'ud_command', 'd', 't']\n",
    "    return pd.concat([action_entries, no_action_entries], join = 'outer').sort_values('t')[['objX', 'objY', 'lr_command', 'ud_command', 'd', 't']]"
   ]
  },
  {
   "cell_type": "markdown",
   "id": "e809535f-e3c1-4237-a653-a42762ba07ec",
   "metadata": {},
   "source": [
    "ONLY TWO TRAJECTORIES USED"
   ]
  },
  {
   "cell_type": "code",
   "execution_count": 99,
   "id": "4c354739-43e4-46ec-b590-761f5cb87733",
   "metadata": {},
   "outputs": [],
   "source": [
    "example_traj = open_trajectories(traj_files[0])\n",
    "example_traj = fix_traj(example_traj, columns_off = True)\n",
    "\n",
    "example_traj_2 = open_trajectories(traj_files[1])\n",
    "example_traj_2 = fix_traj(example_traj_2, columns_off = False)"
   ]
  },
  {
   "cell_type": "code",
   "execution_count": 100,
   "id": "084e81b8-06ba-4a8f-96b0-5fe42ccd5f19",
   "metadata": {},
   "outputs": [],
   "source": [
    "all_trajectories = pd.concat([example_traj, example_traj_2])"
   ]
  },
  {
   "cell_type": "code",
   "execution_count": 101,
   "id": "00833f74-a46f-41ad-a623-afd3b20957d1",
   "metadata": {},
   "outputs": [
    {
     "data": {
      "text/html": [
       "<div>\n",
       "<style scoped>\n",
       "    .dataframe tbody tr th:only-of-type {\n",
       "        vertical-align: middle;\n",
       "    }\n",
       "\n",
       "    .dataframe tbody tr th {\n",
       "        vertical-align: top;\n",
       "    }\n",
       "\n",
       "    .dataframe thead th {\n",
       "        text-align: right;\n",
       "    }\n",
       "</style>\n",
       "<table border=\"1\" class=\"dataframe\">\n",
       "  <thead>\n",
       "    <tr style=\"text-align: right;\">\n",
       "      <th></th>\n",
       "      <th>objX</th>\n",
       "      <th>objY</th>\n",
       "      <th>lr_command</th>\n",
       "      <th>ud_command</th>\n",
       "      <th>d</th>\n",
       "      <th>t</th>\n",
       "    </tr>\n",
       "  </thead>\n",
       "  <tbody>\n",
       "    <tr>\n",
       "      <th>70</th>\n",
       "      <td>195</td>\n",
       "      <td>124</td>\n",
       "      <td>0.000000</td>\n",
       "      <td>0.000000</td>\n",
       "      <td>-1.000000</td>\n",
       "      <td>70</td>\n",
       "    </tr>\n",
       "    <tr>\n",
       "      <th>71</th>\n",
       "      <td>195</td>\n",
       "      <td>124</td>\n",
       "      <td>0.000000</td>\n",
       "      <td>0.000000</td>\n",
       "      <td>-1.000000</td>\n",
       "      <td>71</td>\n",
       "    </tr>\n",
       "    <tr>\n",
       "      <th>72</th>\n",
       "      <td>195</td>\n",
       "      <td>124</td>\n",
       "      <td>0.000000</td>\n",
       "      <td>0.000000</td>\n",
       "      <td>-1.000000</td>\n",
       "      <td>72</td>\n",
       "    </tr>\n",
       "    <tr>\n",
       "      <th>73</th>\n",
       "      <td>195</td>\n",
       "      <td>124</td>\n",
       "      <td>0.000000</td>\n",
       "      <td>0.000000</td>\n",
       "      <td>-1.000000</td>\n",
       "      <td>73</td>\n",
       "    </tr>\n",
       "    <tr>\n",
       "      <th>74</th>\n",
       "      <td>190</td>\n",
       "      <td>138</td>\n",
       "      <td>-7.755610</td>\n",
       "      <td>9.306729</td>\n",
       "      <td>14.866069</td>\n",
       "      <td>74</td>\n",
       "    </tr>\n",
       "    <tr>\n",
       "      <th>75</th>\n",
       "      <td>190</td>\n",
       "      <td>138</td>\n",
       "      <td>-7.001346</td>\n",
       "      <td>8.401615</td>\n",
       "      <td>0.000000</td>\n",
       "      <td>75</td>\n",
       "    </tr>\n",
       "    <tr>\n",
       "      <th>76</th>\n",
       "      <td>192</td>\n",
       "      <td>136</td>\n",
       "      <td>-4.453138</td>\n",
       "      <td>10.950209</td>\n",
       "      <td>2.828427</td>\n",
       "      <td>76</td>\n",
       "    </tr>\n",
       "    <tr>\n",
       "      <th>77</th>\n",
       "      <td>192</td>\n",
       "      <td>136</td>\n",
       "      <td>0.000000</td>\n",
       "      <td>0.000000</td>\n",
       "      <td>-1.000000</td>\n",
       "      <td>77</td>\n",
       "    </tr>\n",
       "    <tr>\n",
       "      <th>78</th>\n",
       "      <td>192</td>\n",
       "      <td>136</td>\n",
       "      <td>0.000000</td>\n",
       "      <td>0.000000</td>\n",
       "      <td>-1.000000</td>\n",
       "      <td>78</td>\n",
       "    </tr>\n",
       "    <tr>\n",
       "      <th>79</th>\n",
       "      <td>192</td>\n",
       "      <td>136</td>\n",
       "      <td>0.000000</td>\n",
       "      <td>0.000000</td>\n",
       "      <td>-1.000000</td>\n",
       "      <td>79</td>\n",
       "    </tr>\n",
       "    <tr>\n",
       "      <th>80</th>\n",
       "      <td>192</td>\n",
       "      <td>136</td>\n",
       "      <td>0.000000</td>\n",
       "      <td>0.000000</td>\n",
       "      <td>-1.000000</td>\n",
       "      <td>80</td>\n",
       "    </tr>\n",
       "    <tr>\n",
       "      <th>81</th>\n",
       "      <td>192</td>\n",
       "      <td>136</td>\n",
       "      <td>0.000000</td>\n",
       "      <td>0.000000</td>\n",
       "      <td>-1.000000</td>\n",
       "      <td>81</td>\n",
       "    </tr>\n",
       "    <tr>\n",
       "      <th>82</th>\n",
       "      <td>192</td>\n",
       "      <td>136</td>\n",
       "      <td>0.000000</td>\n",
       "      <td>0.000000</td>\n",
       "      <td>-1.000000</td>\n",
       "      <td>82</td>\n",
       "    </tr>\n",
       "    <tr>\n",
       "      <th>83</th>\n",
       "      <td>192</td>\n",
       "      <td>136</td>\n",
       "      <td>0.000000</td>\n",
       "      <td>0.000000</td>\n",
       "      <td>-1.000000</td>\n",
       "      <td>83</td>\n",
       "    </tr>\n",
       "    <tr>\n",
       "      <th>84</th>\n",
       "      <td>192</td>\n",
       "      <td>136</td>\n",
       "      <td>0.000000</td>\n",
       "      <td>0.000000</td>\n",
       "      <td>-1.000000</td>\n",
       "      <td>84</td>\n",
       "    </tr>\n",
       "    <tr>\n",
       "      <th>85</th>\n",
       "      <td>192</td>\n",
       "      <td>136</td>\n",
       "      <td>0.000000</td>\n",
       "      <td>0.000000</td>\n",
       "      <td>-1.000000</td>\n",
       "      <td>85</td>\n",
       "    </tr>\n",
       "    <tr>\n",
       "      <th>86</th>\n",
       "      <td>192</td>\n",
       "      <td>136</td>\n",
       "      <td>0.000000</td>\n",
       "      <td>0.000000</td>\n",
       "      <td>-1.000000</td>\n",
       "      <td>86</td>\n",
       "    </tr>\n",
       "    <tr>\n",
       "      <th>87</th>\n",
       "      <td>192</td>\n",
       "      <td>136</td>\n",
       "      <td>0.000000</td>\n",
       "      <td>0.000000</td>\n",
       "      <td>-1.000000</td>\n",
       "      <td>87</td>\n",
       "    </tr>\n",
       "    <tr>\n",
       "      <th>88</th>\n",
       "      <td>192</td>\n",
       "      <td>136</td>\n",
       "      <td>0.000000</td>\n",
       "      <td>0.000000</td>\n",
       "      <td>-1.000000</td>\n",
       "      <td>88</td>\n",
       "    </tr>\n",
       "    <tr>\n",
       "      <th>89</th>\n",
       "      <td>192</td>\n",
       "      <td>136</td>\n",
       "      <td>0.000000</td>\n",
       "      <td>0.000000</td>\n",
       "      <td>-1.000000</td>\n",
       "      <td>89</td>\n",
       "    </tr>\n",
       "  </tbody>\n",
       "</table>\n",
       "</div>"
      ],
      "text/plain": [
       "    objX  objY  lr_command  ud_command          d   t\n",
       "70   195   124    0.000000    0.000000  -1.000000  70\n",
       "71   195   124    0.000000    0.000000  -1.000000  71\n",
       "72   195   124    0.000000    0.000000  -1.000000  72\n",
       "73   195   124    0.000000    0.000000  -1.000000  73\n",
       "74   190   138   -7.755610    9.306729  14.866069  74\n",
       "75   190   138   -7.001346    8.401615   0.000000  75\n",
       "76   192   136   -4.453138   10.950209   2.828427  76\n",
       "77   192   136    0.000000    0.000000  -1.000000  77\n",
       "78   192   136    0.000000    0.000000  -1.000000  78\n",
       "79   192   136    0.000000    0.000000  -1.000000  79\n",
       "80   192   136    0.000000    0.000000  -1.000000  80\n",
       "81   192   136    0.000000    0.000000  -1.000000  81\n",
       "82   192   136    0.000000    0.000000  -1.000000  82\n",
       "83   192   136    0.000000    0.000000  -1.000000  83\n",
       "84   192   136    0.000000    0.000000  -1.000000  84\n",
       "85   192   136    0.000000    0.000000  -1.000000  85\n",
       "86   192   136    0.000000    0.000000  -1.000000  86\n",
       "87   192   136    0.000000    0.000000  -1.000000  87\n",
       "88   192   136    0.000000    0.000000  -1.000000  88\n",
       "89   192   136    0.000000    0.000000  -1.000000  89"
      ]
     },
     "execution_count": 101,
     "metadata": {},
     "output_type": "execute_result"
    }
   ],
   "source": [
    "all_trajectories.iloc[70:90, :].head(n = 25)"
   ]
  },
  {
   "cell_type": "code",
   "execution_count": 102,
   "id": "35615c2a-4376-43df-975d-ff0e3c895156",
   "metadata": {},
   "outputs": [
    {
     "data": {
      "text/html": [
       "<div>\n",
       "<style scoped>\n",
       "    .dataframe tbody tr th:only-of-type {\n",
       "        vertical-align: middle;\n",
       "    }\n",
       "\n",
       "    .dataframe tbody tr th {\n",
       "        vertical-align: top;\n",
       "    }\n",
       "\n",
       "    .dataframe thead th {\n",
       "        text-align: right;\n",
       "    }\n",
       "</style>\n",
       "<table border=\"1\" class=\"dataframe\">\n",
       "  <thead>\n",
       "    <tr style=\"text-align: right;\">\n",
       "      <th></th>\n",
       "      <th>objX</th>\n",
       "      <th>objY</th>\n",
       "      <th>lr_command</th>\n",
       "      <th>ud_command</th>\n",
       "      <th>d</th>\n",
       "      <th>t</th>\n",
       "    </tr>\n",
       "  </thead>\n",
       "  <tbody>\n",
       "    <tr>\n",
       "      <th>count</th>\n",
       "      <td>4895.000000</td>\n",
       "      <td>4895.000000</td>\n",
       "      <td>4895.000000</td>\n",
       "      <td>4895.000000</td>\n",
       "      <td>4895.000000</td>\n",
       "      <td>4895.000000</td>\n",
       "    </tr>\n",
       "    <tr>\n",
       "      <th>mean</th>\n",
       "      <td>200.674974</td>\n",
       "      <td>152.761593</td>\n",
       "      <td>0.875230</td>\n",
       "      <td>-1.454652</td>\n",
       "      <td>2.616318</td>\n",
       "      <td>1356.128907</td>\n",
       "    </tr>\n",
       "    <tr>\n",
       "      <th>std</th>\n",
       "      <td>65.961119</td>\n",
       "      <td>47.646873</td>\n",
       "      <td>16.387117</td>\n",
       "      <td>10.891523</td>\n",
       "      <td>26.156727</td>\n",
       "      <td>898.285647</td>\n",
       "    </tr>\n",
       "    <tr>\n",
       "      <th>min</th>\n",
       "      <td>-1.000000</td>\n",
       "      <td>-1.000000</td>\n",
       "      <td>-40.000000</td>\n",
       "      <td>-40.000000</td>\n",
       "      <td>-40.000000</td>\n",
       "      <td>0.000000</td>\n",
       "    </tr>\n",
       "    <tr>\n",
       "      <th>25%</th>\n",
       "      <td>177.000000</td>\n",
       "      <td>131.000000</td>\n",
       "      <td>-0.726415</td>\n",
       "      <td>0.000000</td>\n",
       "      <td>-1.000000</td>\n",
       "      <td>611.500000</td>\n",
       "    </tr>\n",
       "    <tr>\n",
       "      <th>50%</th>\n",
       "      <td>204.000000</td>\n",
       "      <td>161.000000</td>\n",
       "      <td>0.000000</td>\n",
       "      <td>0.000000</td>\n",
       "      <td>-1.000000</td>\n",
       "      <td>1223.000000</td>\n",
       "    </tr>\n",
       "    <tr>\n",
       "      <th>75%</th>\n",
       "      <td>235.000000</td>\n",
       "      <td>172.000000</td>\n",
       "      <td>2.169158</td>\n",
       "      <td>1.000000</td>\n",
       "      <td>1.414214</td>\n",
       "      <td>2029.500000</td>\n",
       "    </tr>\n",
       "    <tr>\n",
       "      <th>max</th>\n",
       "      <td>372.000000</td>\n",
       "      <td>246.000000</td>\n",
       "      <td>40.000000</td>\n",
       "      <td>40.000000</td>\n",
       "      <td>267.860038</td>\n",
       "      <td>3253.000000</td>\n",
       "    </tr>\n",
       "  </tbody>\n",
       "</table>\n",
       "</div>"
      ],
      "text/plain": [
       "              objX         objY   lr_command   ud_command            d  \\\n",
       "count  4895.000000  4895.000000  4895.000000  4895.000000  4895.000000   \n",
       "mean    200.674974   152.761593     0.875230    -1.454652     2.616318   \n",
       "std      65.961119    47.646873    16.387117    10.891523    26.156727   \n",
       "min      -1.000000    -1.000000   -40.000000   -40.000000   -40.000000   \n",
       "25%     177.000000   131.000000    -0.726415     0.000000    -1.000000   \n",
       "50%     204.000000   161.000000     0.000000     0.000000    -1.000000   \n",
       "75%     235.000000   172.000000     2.169158     1.000000     1.414214   \n",
       "max     372.000000   246.000000    40.000000    40.000000   267.860038   \n",
       "\n",
       "                 t  \n",
       "count  4895.000000  \n",
       "mean   1356.128907  \n",
       "std     898.285647  \n",
       "min       0.000000  \n",
       "25%     611.500000  \n",
       "50%    1223.000000  \n",
       "75%    2029.500000  \n",
       "max    3253.000000  "
      ]
     },
     "execution_count": 102,
     "metadata": {},
     "output_type": "execute_result"
    }
   ],
   "source": [
    "all_trajectories.describe()"
   ]
  },
  {
   "cell_type": "markdown",
   "id": "fa84ed29-a60a-4288-a037-a5231870fcc8",
   "metadata": {},
   "source": [
    "# Creating multiple episodes from one (not used)"
   ]
  },
  {
   "cell_type": "code",
   "execution_count": 103,
   "id": "ae0a59de-168e-4c5e-9375-b6618ecbeecb",
   "metadata": {},
   "outputs": [],
   "source": [
    "def get_inds_when_becomes_confused(example_traj):\n",
    "    last_one = False\n",
    "    result = []\n",
    "    for i, row in example_traj.iterrows():\n",
    "        if row['lr_command'] == 0 and row['ud_command'] == 0:\n",
    "            if not last_one:\n",
    "                result.append(i)\n",
    "            last_one = True\n",
    "        else:\n",
    "            last_one = False\n",
    "    return result\n",
    "\n",
    "def divide_indices(inds, no_confusions = 5, min_steps = 200):\n",
    "    raw_result = inds[::no_confusions]\n",
    "    cleaned = [raw_result[0]]\n",
    "    for i in inds[1:]:\n",
    "        if i - cleaned[-1] >= 200:\n",
    "            cleaned.append(i)\n",
    "    return cleaned\n",
    "\n",
    "def divide_traj(example_traj, no_confusions = 5):\n",
    "    results = []\n",
    "    inds = get_inds_when_becomes_confused(example_traj)\n",
    "    dividers = divide_indices(inds, no_confusions, min_steps = 200)\n",
    "    for i in range(1, len(dividers)):\n",
    "        if dividers[i] != 0:\n",
    "            results.append(example_traj.iloc[dividers[i-1]: dividers[i],:])\n",
    "    return results\n",
    "        "
   ]
  },
  {
   "cell_type": "code",
   "execution_count": 104,
   "id": "9469af09-0d88-4100-aed4-5782803a7f75",
   "metadata": {},
   "outputs": [
    {
     "data": {
      "text/html": [
       "<div>\n",
       "<style scoped>\n",
       "    .dataframe tbody tr th:only-of-type {\n",
       "        vertical-align: middle;\n",
       "    }\n",
       "\n",
       "    .dataframe tbody tr th {\n",
       "        vertical-align: top;\n",
       "    }\n",
       "\n",
       "    .dataframe thead th {\n",
       "        text-align: right;\n",
       "    }\n",
       "</style>\n",
       "<table border=\"1\" class=\"dataframe\">\n",
       "  <thead>\n",
       "    <tr style=\"text-align: right;\">\n",
       "      <th></th>\n",
       "      <th>objX</th>\n",
       "      <th>objY</th>\n",
       "      <th>lr_command</th>\n",
       "      <th>ud_command</th>\n",
       "      <th>d</th>\n",
       "      <th>t</th>\n",
       "    </tr>\n",
       "  </thead>\n",
       "  <tbody>\n",
       "    <tr>\n",
       "      <th>204</th>\n",
       "      <td>227</td>\n",
       "      <td>171</td>\n",
       "      <td>0.000000</td>\n",
       "      <td>0.000000</td>\n",
       "      <td>-1.000000</td>\n",
       "      <td>204</td>\n",
       "    </tr>\n",
       "    <tr>\n",
       "      <th>205</th>\n",
       "      <td>227</td>\n",
       "      <td>171</td>\n",
       "      <td>0.000000</td>\n",
       "      <td>0.000000</td>\n",
       "      <td>-1.000000</td>\n",
       "      <td>205</td>\n",
       "    </tr>\n",
       "    <tr>\n",
       "      <th>206</th>\n",
       "      <td>229</td>\n",
       "      <td>169</td>\n",
       "      <td>24.024084</td>\n",
       "      <td>-9.578706</td>\n",
       "      <td>2.828427</td>\n",
       "      <td>206</td>\n",
       "    </tr>\n",
       "    <tr>\n",
       "      <th>207</th>\n",
       "      <td>229</td>\n",
       "      <td>169</td>\n",
       "      <td>0.000000</td>\n",
       "      <td>0.000000</td>\n",
       "      <td>-1.000000</td>\n",
       "      <td>207</td>\n",
       "    </tr>\n",
       "    <tr>\n",
       "      <th>208</th>\n",
       "      <td>229</td>\n",
       "      <td>169</td>\n",
       "      <td>0.000000</td>\n",
       "      <td>0.000000</td>\n",
       "      <td>-1.000000</td>\n",
       "      <td>208</td>\n",
       "    </tr>\n",
       "    <tr>\n",
       "      <th>...</th>\n",
       "      <td>...</td>\n",
       "      <td>...</td>\n",
       "      <td>...</td>\n",
       "      <td>...</td>\n",
       "      <td>...</td>\n",
       "      <td>...</td>\n",
       "    </tr>\n",
       "    <tr>\n",
       "      <th>422</th>\n",
       "      <td>229</td>\n",
       "      <td>169</td>\n",
       "      <td>0.000000</td>\n",
       "      <td>0.000000</td>\n",
       "      <td>-1.000000</td>\n",
       "      <td>422</td>\n",
       "    </tr>\n",
       "    <tr>\n",
       "      <th>423</th>\n",
       "      <td>229</td>\n",
       "      <td>169</td>\n",
       "      <td>0.000000</td>\n",
       "      <td>0.000000</td>\n",
       "      <td>-1.000000</td>\n",
       "      <td>423</td>\n",
       "    </tr>\n",
       "    <tr>\n",
       "      <th>424</th>\n",
       "      <td>229</td>\n",
       "      <td>169</td>\n",
       "      <td>0.000000</td>\n",
       "      <td>0.000000</td>\n",
       "      <td>-1.000000</td>\n",
       "      <td>424</td>\n",
       "    </tr>\n",
       "    <tr>\n",
       "      <th>425</th>\n",
       "      <td>210</td>\n",
       "      <td>155</td>\n",
       "      <td>6.506955</td>\n",
       "      <td>-3.137891</td>\n",
       "      <td>23.600847</td>\n",
       "      <td>425</td>\n",
       "    </tr>\n",
       "    <tr>\n",
       "      <th>426</th>\n",
       "      <td>210</td>\n",
       "      <td>155</td>\n",
       "      <td>7.004156</td>\n",
       "      <td>-3.504246</td>\n",
       "      <td>0.000000</td>\n",
       "      <td>426</td>\n",
       "    </tr>\n",
       "  </tbody>\n",
       "</table>\n",
       "<p>223 rows × 6 columns</p>\n",
       "</div>"
      ],
      "text/plain": [
       "     objX  objY  lr_command  ud_command          d    t\n",
       "204   227   171    0.000000    0.000000  -1.000000  204\n",
       "205   227   171    0.000000    0.000000  -1.000000  205\n",
       "206   229   169   24.024084   -9.578706   2.828427  206\n",
       "207   229   169    0.000000    0.000000  -1.000000  207\n",
       "208   229   169    0.000000    0.000000  -1.000000  208\n",
       "..    ...   ...         ...         ...        ...  ...\n",
       "422   229   169    0.000000    0.000000  -1.000000  422\n",
       "423   229   169    0.000000    0.000000  -1.000000  423\n",
       "424   229   169    0.000000    0.000000  -1.000000  424\n",
       "425   210   155    6.506955   -3.137891  23.600847  425\n",
       "426   210   155    7.004156   -3.504246   0.000000  426\n",
       "\n",
       "[223 rows x 6 columns]"
      ]
     },
     "execution_count": 104,
     "metadata": {},
     "output_type": "execute_result"
    }
   ],
   "source": [
    "divide_traj(example_traj, no_confusions = 5)[1]"
   ]
  },
  {
   "cell_type": "markdown",
   "id": "2f8ae3f9-318a-4055-9e9c-e7c9b2c899a7",
   "metadata": {},
   "source": [
    "# REGRESSION TASK"
   ]
  },
  {
   "cell_type": "markdown",
   "id": "a316ed19-280f-48a3-a93b-b1747b321212",
   "metadata": {},
   "source": [
    "##  Assembling the features, discretized and centered"
   ]
  },
  {
   "cell_type": "code",
   "execution_count": 105,
   "id": "e5d43b14-a013-453b-90ee-f2b45aa29fc5",
   "metadata": {},
   "outputs": [],
   "source": [
    "#buckets are [(-1, 0), (0, 10),...], center and discretize\n",
    "center_x = 20 / 2\n",
    "center_y = int(15 / 2)\n",
    "bucketed_x = np.digitize(all_trajectories.objX, [-1] + np.linspace(0, 399, 21)) - 1 - center_x\n",
    "bucketed_y = np.digitize(all_trajectories.objY, [-1] + np.linspace(0, 299, 16)) - 1 - center_y\n",
    "\n",
    "# keep only actions which are sent to bot\n",
    "bucketed_x = np.array([i if i != -10 else 0 for i in bucketed_x])\n",
    "bucketed_y = np.array([i if i != - int(15 / 2) else 0 for i in bucketed_y])\n",
    "                      \n",
    "\n",
    "# boolean d, is valid or not (do we send action)\n",
    "d_buckets = [0, 25]\n",
    "\n",
    "bucketed_d = np.array([1 if i == 1 else 0 for i in np.digitize(all_trajectories.d, d_buckets)])"
   ]
  },
  {
   "cell_type": "markdown",
   "id": "127716c9-37d8-4047-840d-1cb2dde072d5",
   "metadata": {},
   "source": [
    "## Function to center normalize reshape data"
   ]
  },
  {
   "cell_type": "code",
   "execution_count": 106,
   "id": "e813153b-e254-44e2-b6a9-a05b71e547f2",
   "metadata": {},
   "outputs": [],
   "source": [
    "def center_normalize_reshape(x, center = 200, max_val = 400):\n",
    "    centered_x = np.array((x - center) / max_val)\n",
    "    return centered_x\n",
    "\n",
    "centered_x = center_normalize_reshape(all_trajectories.objX, center = 200, max_val = 400)\n",
    "centered_y = center_normalize_reshape(all_trajectories.objY, center = 150, max_val = 300)\n",
    "#centered_x = np.array([centered_x]).T"
   ]
  },
  {
   "cell_type": "markdown",
   "id": "4bcdb8af-b528-420d-8590-e3934f889c2b",
   "metadata": {},
   "source": [
    "## More feature engineering, some unused"
   ]
  },
  {
   "cell_type": "code",
   "execution_count": 107,
   "id": "5927f739-ff7a-4249-9fab-c6aead40ec46",
   "metadata": {},
   "outputs": [],
   "source": [
    "squared_x_buckets = bucketed_x * bucketed_x\n",
    "squared_y_buckets = bucketed_y * bucketed_y\n",
    "d_x = bucketed_x * bucketed_d\n",
    "d_y = bucketed_y * bucketed_d\n",
    "d_x_sq = squared_x_buckets * bucketed_d\n",
    "d_x_cu = d_x_sq * bucketed_x\n",
    "\n",
    "\n",
    "d_centered_x = centered_x * bucketed_d\n",
    "d_centered_y = centered_y * bucketed_d\n",
    "\n",
    "centered_x_sq = centered_x * centered_x\n",
    "centered_y_sq = centered_y * centered_y\n",
    "\n",
    "d_x_sq = centered_x_sq * bucketed_d\n",
    "d_y_sq = centered_y_sq * bucketed_d"
   ]
  },
  {
   "cell_type": "markdown",
   "id": "4f424818-3785-4f52-8efe-01164324d584",
   "metadata": {},
   "source": [
    "## Using the feature x centered * d \n",
    "\n",
    "We regress to come up with model for left right action at each state"
   ]
  },
  {
   "cell_type": "code",
   "execution_count": 108,
   "id": "c6da9161-5a51-483a-a199-859bdfa759fa",
   "metadata": {},
   "outputs": [
    {
     "name": "stdout",
     "output_type": "stream",
     "text": [
      "doing nothing, MSE: 0.8960059991274786\n",
      "with policy, MSE: 0.07286096798438983\n"
     ]
    },
    {
     "data": {
      "text/plain": [
       "array([5.8777679])"
      ]
     },
     "execution_count": 108,
     "metadata": {},
     "output_type": "execute_result"
    }
   ],
   "source": [
    "X = np.array([d_centered_x]).T\n",
    "y = all_trajectories.lr_command\n",
    "y_norm = y / 40\n",
    "\n",
    "\n",
    "x_model = sklearn.linear_model.LinearRegression(fit_intercept = False)\n",
    "x_model.fit(X, y_norm)\n",
    "            \n",
    "print(\"doing nothing, MSE:\", sklearn.metrics.mean_squared_error(y_norm, np.full(len(y), np.mean(y))))\n",
    "print(\"with policy, MSE:\", sklearn.metrics.mean_squared_error(y_norm, x_model.predict(X)))\n",
    "\n",
    "bl_x_model_MSE = sklearn.metrics.mean_squared_error(y_norm, np.full(len(y), np.mean(y)))\n",
    "x_model_MSE = sklearn.metrics.mean_squared_error(y_norm, x_model.predict(X))\n",
    "x_model.coef_"
   ]
  },
  {
   "cell_type": "markdown",
   "id": "8580b29d-c9d7-4fe3-b067-dd22b044b70e",
   "metadata": {},
   "source": [
    "## Using the feature y centered * d \n",
    "\n",
    "We regress to come up with model for up down action at each state"
   ]
  },
  {
   "cell_type": "code",
   "execution_count": 109,
   "id": "e9057a9c-d4d0-4495-9418-46a643b89a11",
   "metadata": {},
   "outputs": [
    {
     "name": "stdout",
     "output_type": "stream",
     "text": [
      "doing nothing, MSE: 2.085661346486914\n",
      "with policy, MSE: 0.39050556144541504\n"
     ]
    },
    {
     "data": {
      "text/plain": [
       "array([-3.75406534])"
      ]
     },
     "execution_count": 109,
     "metadata": {},
     "output_type": "execute_result"
    }
   ],
   "source": [
    "X = np.array([d_centered_y]).T\n",
    "y = all_trajectories.ud_command\n",
    "y_norm = y / 40\n",
    "\n",
    "y_model = sklearn.linear_model.LinearRegression(fit_intercept = False)\n",
    "y_model.fit(X, y_norm)\n",
    "\n",
    "           \n",
    "print(\"doing nothing, MSE:\", sklearn.metrics.mean_squared_error(y_norm, np.full(len(y), np.mean(y))))\n",
    "print(\"with policy, MSE:\", sklearn.metrics.mean_squared_error(y_norm, x_model.predict(X)))\n",
    "\n",
    "bl_y_model_MSE = sklearn.metrics.mean_squared_error(y_norm, np.full(len(y), np.mean(y)))\n",
    "y_model_MSE = sklearn.metrics.mean_squared_error(y_norm, x_model.predict(X))\n",
    "\n",
    "y_model.coef_"
   ]
  },
  {
   "cell_type": "code",
   "execution_count": 110,
   "id": "3ea39f95-3d46-4605-8113-7ebb48d1a8bd",
   "metadata": {},
   "outputs": [
    {
     "data": {
      "text/plain": [
       "'L/R Action = 5.877 * X_coord'"
      ]
     },
     "execution_count": 110,
     "metadata": {},
     "output_type": "execute_result"
    }
   ],
   "source": [
    "def model_str(model, label = \"L/R\", state_type = 'X'):\n",
    "    return label + \" Action = \" + str(model.coef_[0])[:5] + \" * \" + state_type + '_coord'\n",
    "model_str(x_model)"
   ]
  },
  {
   "cell_type": "code",
   "execution_count": 111,
   "id": "5323f69c-91f8-44ba-829e-efb8e962f49b",
   "metadata": {},
   "outputs": [
    {
     "data": {
      "text/html": [
       "<div>\n",
       "<style scoped>\n",
       "    .dataframe tbody tr th:only-of-type {\n",
       "        vertical-align: middle;\n",
       "    }\n",
       "\n",
       "    .dataframe tbody tr th {\n",
       "        vertical-align: top;\n",
       "    }\n",
       "\n",
       "    .dataframe thead th {\n",
       "        text-align: right;\n",
       "    }\n",
       "</style>\n",
       "<table border=\"1\" class=\"dataframe\">\n",
       "  <thead>\n",
       "    <tr style=\"text-align: right;\">\n",
       "      <th></th>\n",
       "      <th>Baseline MSE</th>\n",
       "      <th>Model MSE</th>\n",
       "      <th>Model Formula</th>\n",
       "    </tr>\n",
       "  </thead>\n",
       "  <tbody>\n",
       "    <tr>\n",
       "      <th>x model</th>\n",
       "      <td>0.896006</td>\n",
       "      <td>0.072861</td>\n",
       "      <td>L/R Action = 5.877 * X_coord</td>\n",
       "    </tr>\n",
       "    <tr>\n",
       "      <th>y model</th>\n",
       "      <td>2.085661</td>\n",
       "      <td>0.390506</td>\n",
       "      <td>U/D Action = -3.75 * Y_coord</td>\n",
       "    </tr>\n",
       "  </tbody>\n",
       "</table>\n",
       "</div>"
      ],
      "text/plain": [
       "         Baseline MSE  Model MSE                 Model Formula\n",
       "x model      0.896006   0.072861  L/R Action = 5.877 * X_coord\n",
       "y model      2.085661   0.390506  U/D Action = -3.75 * Y_coord"
      ]
     },
     "execution_count": 111,
     "metadata": {},
     "output_type": "execute_result"
    }
   ],
   "source": [
    "lr_results = pd.DataFrame([{'Baseline MSE': bl_x_model_MSE, 'Model MSE': x_model_MSE, 'Model Formula': model_str(x_model)}, {'Baseline MSE': bl_y_model_MSE, 'Model MSE': y_model_MSE, 'Model Formula': model_str(y_model, \"U/D\", 'Y')}])\n",
    "lr_results.index = ['x model', 'y model']\n",
    "lr\n",
    "lr_results"
   ]
  },
  {
   "cell_type": "markdown",
   "id": "ac765b14-e14c-408b-baa0-2d41c2520cdd",
   "metadata": {},
   "source": [
    "## Going from model to policy, get policy takes state fatures and outputs the corresponding action"
   ]
  },
  {
   "cell_type": "code",
   "execution_count": 112,
   "id": "3680fd86-7dd3-42bc-b1ed-28411707f3f7",
   "metadata": {},
   "outputs": [],
   "source": [
    "def bucket_xyd(x, y, d):\n",
    "    center_x = 20 / 2\n",
    "    center_y = int(15 / 2)\n",
    "    bucketed_x = np.digitize(x, [-1] + np.linspace(0, 399, 21)) - 1 - center_x\n",
    "    bucketed_y = np.digitize(y, [-1] + np.linspace(0, 299, 16)) - 1 - center_y\n",
    "    d_buckets = [0, 25]\n",
    "    bucketed_d = 1 if np.digitize(d, d_buckets) == 1 else 0\n",
    "    return bucketed_x, bucketed_y, bucketed_d\n",
    "\n",
    "def normalize_center_reshape_xyd(x, y, d):\n",
    "    centered_x = center_normalize_reshape(x, center = 200, max_val = 400)\n",
    "    centered_y = center_normalize_reshape(y, center = 150, max_val = 300)\n",
    "    d_buckets = [0, 25]\n",
    "    bucketed_d = 1 if np.digitize(d, d_buckets) == 1 else 0\n",
    "    return centered_x, centered_y, bucketed_d\n",
    "\n",
    "# Left is positive, right is negative, Up is negative down is positive, \n",
    "def get_policy(x, y, d, x_model, y_model):\n",
    "    #x, y, d = bucket_xyd(x, y, d)\n",
    "    x, y, d = normalize_center_reshape_xyd(x, y, d)\n",
    "    return x_model.predict(np.array([x * d]).reshape(1, -1))[0] * 40, y_model.predict(np.array([y * d]).reshape(1, -1))[0] * 40"
   ]
  },
  {
   "cell_type": "code",
   "execution_count": 113,
   "id": "885f0116-dfdf-4d3c-b15c-a23309c094c4",
   "metadata": {},
   "outputs": [
    {
     "data": {
      "text/plain": [
       "(-117.5553580267291, 75.08130685603757)"
      ]
     },
     "execution_count": 113,
     "metadata": {},
     "output_type": "execute_result"
    }
   ],
   "source": [
    "get_policy(0, 0, 20, x_model, y_model)"
   ]
  },
  {
   "cell_type": "markdown",
   "id": "b3638ee0-3084-49e5-8a00-37d509a8eef8",
   "metadata": {},
   "source": [
    "## Filling the action dictionary for inference, we can do this since there is actually a discrete amount of states, handle the interaction by d using code (we only query states by x and y coordinates, d is handled by implementation since it is a simple conditional"
   ]
  },
  {
   "cell_type": "code",
   "execution_count": 114,
   "id": "a61f4a83-9ea8-432d-94cf-09adb5872bd3",
   "metadata": {},
   "outputs": [],
   "source": [
    "possible_obj_coords = []\n",
    "for i in range(400):\n",
    "    for j in range(300):\n",
    "        possible_obj_coords.append(\"_\".join([str(i), str(j)]))"
   ]
  },
  {
   "cell_type": "code",
   "execution_count": 115,
   "id": "4386bd67-c8ab-44e8-8cf2-cd0078db4162",
   "metadata": {},
   "outputs": [],
   "source": [
    "policy_dict = {}\n",
    "\n",
    "def clip_actions(a):\n",
    "    if a < -40:\n",
    "        return -40\n",
    "    elif a > 40:\n",
    "        return 40\n",
    "    else:\n",
    "        return a\n",
    "\n",
    "for s in possible_obj_coords:\n",
    "    coords = [int(i) for i in s.split(\"_\")]\n",
    "    x, y, d = coords[0], coords[1], 1\n",
    "    lr, ud = get_policy(x, y, d, x_model, y_model)\n",
    "    policy_dict[s] = (clip_actions(lr), clip_actions(ud))\n",
    "    "
   ]
  },
  {
   "cell_type": "markdown",
   "id": "bb7f66dd-dc3d-412f-8334-ee8c0e6d644f",
   "metadata": {},
   "source": [
    "## Save policy as csv file"
   ]
  },
  {
   "cell_type": "code",
   "execution_count": 116,
   "id": "6ba7c16e-198f-4bf8-bc80-46237028a6f0",
   "metadata": {},
   "outputs": [],
   "source": [
    "pd.DataFrame([{'state': k, 'lr_command': v[0], 'ud_command':v[1]} for k,v in policy_dict.items()]).to_csv('policy.csv')"
   ]
  },
  {
   "cell_type": "markdown",
   "id": "4fe5ba73-4b19-4c8c-8826-27e39461a269",
   "metadata": {},
   "source": [
    "## Function to make a policy dict from saved policy csv"
   ]
  },
  {
   "cell_type": "code",
   "execution_count": null,
   "id": "2ecff803-5901-438a-83d0-d9f1c260b86c",
   "metadata": {},
   "outputs": [],
   "source": [
    "def make_policy_dict(policy_path):\n",
    "    policy_df = pd.read_csv('policy.csv')\n",
    "    return {row['state']: (row['lr_command'], row['ud_command']) for i, row in policy_df.iterrows()}\n",
    "    \n",
    "def xy_to_s(x, y):\n",
    "    return str(x) + \"_\" + str(y)\n",
    "\n",
    "\n",
    "make_policy_dict('policy.csv')"
   ]
  },
  {
   "cell_type": "markdown",
   "id": "86110a5a-5d4b-406a-b9d7-56fced8973bd",
   "metadata": {},
   "source": [
    "## Timing inference"
   ]
  },
  {
   "cell_type": "code",
   "execution_count": 543,
   "id": "12d68e6e-16f0-4278-abd1-e46fcff07193",
   "metadata": {},
   "outputs": [
    {
     "data": {
      "text/plain": [
       "-7.128715515136719e-05"
      ]
     },
     "execution_count": 543,
     "metadata": {},
     "output_type": "execute_result"
    }
   ],
   "source": [
    "import time\n",
    "\n",
    "start = time.time()\n",
    "x = policy_dict[\"0_0\"]\n",
    "end = time.time()\n",
    "start-end"
   ]
  },
  {
   "cell_type": "code",
   "execution_count": 525,
   "id": "08acb4e9-da25-4b11-a32d-87f1c90aef5f",
   "metadata": {},
   "outputs": [
    {
     "data": {
      "text/plain": [
       "array([-149.63757038])"
      ]
     },
     "execution_count": 525,
     "metadata": {},
     "output_type": "execute_result"
    }
   ],
   "source": [
    "x, y, d = -.5,-.5, 1\n",
    "np.array([x * d, x*x*d]).reshape(1, -1)\n",
    "\n",
    "x_model.predict(np.array([x * d, x*x*d]).reshape(1, -1))"
   ]
  }
 ],
 "metadata": {
  "kernelspec": {
   "display_name": "Python 3 (ipykernel)",
   "language": "python",
   "name": "python3"
  },
  "language_info": {
   "codemirror_mode": {
    "name": "ipython",
    "version": 3
   },
   "file_extension": ".py",
   "mimetype": "text/x-python",
   "name": "python",
   "nbconvert_exporter": "python",
   "pygments_lexer": "ipython3",
   "version": "3.7.7"
  }
 },
 "nbformat": 4,
 "nbformat_minor": 5
}
